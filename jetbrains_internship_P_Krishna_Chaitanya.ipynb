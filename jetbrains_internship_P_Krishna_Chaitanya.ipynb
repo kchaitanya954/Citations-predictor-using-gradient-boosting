{
  "nbformat": 4,
  "nbformat_minor": 0,
  "metadata": {
    "colab": {
      "name": "jetbrains_internship_P Krishna Chaitanya.ipynb",
      "provenance": []
    },
    "kernelspec": {
      "name": "python3",
      "display_name": "Python 3"
    }
  },
  "cells": [
    {
      "cell_type": "code",
      "metadata": {
        "colab": {
          "base_uri": "https://localhost:8080/"
        },
        "id": "UrASCYKuAscG",
        "outputId": "0846819f-5e08-4152-efa5-b689a3675d08"
      },
      "source": [
        "#Importing required libraries\r\n",
        "!pip install numpy\r\n",
        "!pip install pandas\r\n",
        "!pip install scikit-learn\r\n",
        "import numpy as np\r\n",
        "import pandas as pd\r\n",
        "from sklearn.model_selection import train_test_split, cross_val_score, cross_validate, RepeatedStratifiedKFold\r\n",
        "from sklearn.ensemble import GradientBoostingRegressor\r\n",
        "import warnings\r\n",
        "warnings.filterwarnings(\"ignore\")\r\n",
        "\r\n",
        "#mount the data from google drive\r\n",
        "from google.colab import drive\r\n",
        "drive.mount('/content/drive/')\r\n",
        "# load the bioresponse data as data\r\n",
        "df=pd.read_csv(\"/content/drive/My Drive/Colab Notebooks/predict.csv\")\r\n"
      ],
      "execution_count": 1,
      "outputs": [
        {
          "output_type": "stream",
          "text": [
            "Requirement already satisfied: numpy in /usr/local/lib/python3.7/dist-packages (1.19.5)\n",
            "Requirement already satisfied: pandas in /usr/local/lib/python3.7/dist-packages (1.1.5)\n",
            "Requirement already satisfied: numpy>=1.15.4 in /usr/local/lib/python3.7/dist-packages (from pandas) (1.19.5)\n",
            "Requirement already satisfied: pytz>=2017.2 in /usr/local/lib/python3.7/dist-packages (from pandas) (2018.9)\n",
            "Requirement already satisfied: python-dateutil>=2.7.3 in /usr/local/lib/python3.7/dist-packages (from pandas) (2.8.1)\n",
            "Requirement already satisfied: six>=1.5 in /usr/local/lib/python3.7/dist-packages (from python-dateutil>=2.7.3->pandas) (1.15.0)\n",
            "Requirement already satisfied: scikit-learn in /usr/local/lib/python3.7/dist-packages (0.22.2.post1)\n",
            "Requirement already satisfied: numpy>=1.11.0 in /usr/local/lib/python3.7/dist-packages (from scikit-learn) (1.19.5)\n",
            "Requirement already satisfied: scipy>=0.17.0 in /usr/local/lib/python3.7/dist-packages (from scikit-learn) (1.4.1)\n",
            "Requirement already satisfied: joblib>=0.11 in /usr/local/lib/python3.7/dist-packages (from scikit-learn) (1.0.1)\n",
            "Drive already mounted at /content/drive/; to attempt to forcibly remount, call drive.mount(\"/content/drive/\", force_remount=True).\n"
          ],
          "name": "stdout"
        }
      ]
    },
    {
      "cell_type": "code",
      "metadata": {
        "colab": {
          "base_uri": "https://localhost:8080/"
        },
        "id": "jehtaej-9Voe",
        "outputId": "008844ea-3a19-490d-8a5b-59f5281627df"
      },
      "source": [
        "# To  check the null values in the data\r\n",
        "df.isnull().sum()"
      ],
      "execution_count": 2,
      "outputs": [
        {
          "output_type": "execute_result",
          "data": {
            "text/plain": [
              "recency                         0\n",
              "topic_rank                      0\n",
              "diversity                       0\n",
              "authors_mean_rank               6\n",
              "authors_mean_hindex             6\n",
              "authors_mean_gindex             6\n",
              "authors_mean_sociality          6\n",
              "authors_mean_pagerank         479\n",
              "authors_mean_productivity     479\n",
              "journal_pagerank              479\n",
              "journal_rank                   39\n",
              "title_len                       0\n",
              "abstract_len                    0\n",
              "n_authors                       0\n",
              "c5                              0\n",
              "log_authors_mean_sociality      6\n",
              "dtype: int64"
            ]
          },
          "metadata": {
            "tags": []
          },
          "execution_count": 2
        }
      ]
    },
    {
      "cell_type": "code",
      "metadata": {
        "id": "YNB8OemNHWaV"
      },
      "source": [
        "# Dropping the feature colums which have no significance.\r\n",
        "# authors_mean_sociality is removed as it is completly corelated to log_authors_mean_sociality.\r\n",
        "df = df.drop(['authors_mean_pagerank', 'authors_mean_productivity', 'journal_pagerank', 'authors_mean_sociality'], axis=1)"
      ],
      "execution_count": 3,
      "outputs": []
    },
    {
      "cell_type": "code",
      "metadata": {
        "colab": {
          "base_uri": "https://localhost:8080/",
          "height": 224
        },
        "id": "35LDjQkUHnnn",
        "outputId": "26be65e0-f5f2-4fe2-f4ba-8cda8042d1ce"
      },
      "source": [
        "df.head()"
      ],
      "execution_count": 4,
      "outputs": [
        {
          "output_type": "execute_result",
          "data": {
            "text/html": [
              "<div>\n",
              "<style scoped>\n",
              "    .dataframe tbody tr th:only-of-type {\n",
              "        vertical-align: middle;\n",
              "    }\n",
              "\n",
              "    .dataframe tbody tr th {\n",
              "        vertical-align: top;\n",
              "    }\n",
              "\n",
              "    .dataframe thead th {\n",
              "        text-align: right;\n",
              "    }\n",
              "</style>\n",
              "<table border=\"1\" class=\"dataframe\">\n",
              "  <thead>\n",
              "    <tr style=\"text-align: right;\">\n",
              "      <th></th>\n",
              "      <th>recency</th>\n",
              "      <th>topic_rank</th>\n",
              "      <th>diversity</th>\n",
              "      <th>authors_mean_rank</th>\n",
              "      <th>authors_mean_hindex</th>\n",
              "      <th>authors_mean_gindex</th>\n",
              "      <th>journal_rank</th>\n",
              "      <th>title_len</th>\n",
              "      <th>abstract_len</th>\n",
              "      <th>n_authors</th>\n",
              "      <th>c5</th>\n",
              "      <th>log_authors_mean_sociality</th>\n",
              "    </tr>\n",
              "  </thead>\n",
              "  <tbody>\n",
              "    <tr>\n",
              "      <th>0</th>\n",
              "      <td>16</td>\n",
              "      <td>1.0</td>\n",
              "      <td>-0.425436</td>\n",
              "      <td>500.0</td>\n",
              "      <td>1.0</td>\n",
              "      <td>1.0</td>\n",
              "      <td>101.0</td>\n",
              "      <td>66</td>\n",
              "      <td>1653</td>\n",
              "      <td>7</td>\n",
              "      <td>1.0</td>\n",
              "      <td>1.945910</td>\n",
              "    </tr>\n",
              "    <tr>\n",
              "      <th>1</th>\n",
              "      <td>8</td>\n",
              "      <td>7.0</td>\n",
              "      <td>-0.571967</td>\n",
              "      <td>134.0</td>\n",
              "      <td>1.0</td>\n",
              "      <td>1.0</td>\n",
              "      <td>24.0</td>\n",
              "      <td>59</td>\n",
              "      <td>1527</td>\n",
              "      <td>7</td>\n",
              "      <td>32.0</td>\n",
              "      <td>1.945910</td>\n",
              "    </tr>\n",
              "    <tr>\n",
              "      <th>2</th>\n",
              "      <td>15</td>\n",
              "      <td>19.0</td>\n",
              "      <td>-0.859644</td>\n",
              "      <td>235.0</td>\n",
              "      <td>1.0</td>\n",
              "      <td>1.0</td>\n",
              "      <td>49.0</td>\n",
              "      <td>169</td>\n",
              "      <td>1554</td>\n",
              "      <td>6</td>\n",
              "      <td>5.0</td>\n",
              "      <td>1.791759</td>\n",
              "    </tr>\n",
              "    <tr>\n",
              "      <th>3</th>\n",
              "      <td>6</td>\n",
              "      <td>4.0</td>\n",
              "      <td>-1.054999</td>\n",
              "      <td>1124.0</td>\n",
              "      <td>1.0</td>\n",
              "      <td>1.0</td>\n",
              "      <td>185.0</td>\n",
              "      <td>130</td>\n",
              "      <td>2121</td>\n",
              "      <td>11</td>\n",
              "      <td>7.0</td>\n",
              "      <td>2.397895</td>\n",
              "    </tr>\n",
              "    <tr>\n",
              "      <th>4</th>\n",
              "      <td>14</td>\n",
              "      <td>2.0</td>\n",
              "      <td>-0.476697</td>\n",
              "      <td>346.0</td>\n",
              "      <td>1.0</td>\n",
              "      <td>1.0</td>\n",
              "      <td>72.0</td>\n",
              "      <td>100</td>\n",
              "      <td>432</td>\n",
              "      <td>3</td>\n",
              "      <td>7.0</td>\n",
              "      <td>1.098612</td>\n",
              "    </tr>\n",
              "  </tbody>\n",
              "</table>\n",
              "</div>"
            ],
            "text/plain": [
              "   recency  topic_rank  diversity  ...  n_authors    c5  log_authors_mean_sociality\n",
              "0       16         1.0  -0.425436  ...          7   1.0                    1.945910\n",
              "1        8         7.0  -0.571967  ...          7  32.0                    1.945910\n",
              "2       15        19.0  -0.859644  ...          6   5.0                    1.791759\n",
              "3        6         4.0  -1.054999  ...         11   7.0                    2.397895\n",
              "4       14         2.0  -0.476697  ...          3   7.0                    1.098612\n",
              "\n",
              "[5 rows x 12 columns]"
            ]
          },
          "metadata": {
            "tags": []
          },
          "execution_count": 4
        }
      ]
    },
    {
      "cell_type": "code",
      "metadata": {
        "colab": {
          "base_uri": "https://localhost:8080/",
          "height": 317
        },
        "id": "zPElPFRncC5k",
        "outputId": "67b01175-36f6-4b3a-b0ce-e980a4bc9ace"
      },
      "source": [
        "df.describe()"
      ],
      "execution_count": 5,
      "outputs": [
        {
          "output_type": "execute_result",
          "data": {
            "text/html": [
              "<div>\n",
              "<style scoped>\n",
              "    .dataframe tbody tr th:only-of-type {\n",
              "        vertical-align: middle;\n",
              "    }\n",
              "\n",
              "    .dataframe tbody tr th {\n",
              "        vertical-align: top;\n",
              "    }\n",
              "\n",
              "    .dataframe thead th {\n",
              "        text-align: right;\n",
              "    }\n",
              "</style>\n",
              "<table border=\"1\" class=\"dataframe\">\n",
              "  <thead>\n",
              "    <tr style=\"text-align: right;\">\n",
              "      <th></th>\n",
              "      <th>recency</th>\n",
              "      <th>topic_rank</th>\n",
              "      <th>diversity</th>\n",
              "      <th>authors_mean_rank</th>\n",
              "      <th>authors_mean_hindex</th>\n",
              "      <th>authors_mean_gindex</th>\n",
              "      <th>journal_rank</th>\n",
              "      <th>title_len</th>\n",
              "      <th>abstract_len</th>\n",
              "      <th>n_authors</th>\n",
              "      <th>c5</th>\n",
              "      <th>log_authors_mean_sociality</th>\n",
              "    </tr>\n",
              "  </thead>\n",
              "  <tbody>\n",
              "    <tr>\n",
              "      <th>count</th>\n",
              "      <td>479.000000</td>\n",
              "      <td>479.000000</td>\n",
              "      <td>479.000000</td>\n",
              "      <td>473.000000</td>\n",
              "      <td>473.000000</td>\n",
              "      <td>473.000000</td>\n",
              "      <td>440.000000</td>\n",
              "      <td>479.000000</td>\n",
              "      <td>479.000000</td>\n",
              "      <td>479.000000</td>\n",
              "      <td>479.000000</td>\n",
              "      <td>473.000000</td>\n",
              "    </tr>\n",
              "    <tr>\n",
              "      <th>mean</th>\n",
              "      <td>13.419624</td>\n",
              "      <td>10.125261</td>\n",
              "      <td>-0.675481</td>\n",
              "      <td>741.769615</td>\n",
              "      <td>0.844051</td>\n",
              "      <td>0.844668</td>\n",
              "      <td>146.184091</td>\n",
              "      <td>94.983299</td>\n",
              "      <td>1162.283925</td>\n",
              "      <td>4.369520</td>\n",
              "      <td>6.713987</td>\n",
              "      <td>1.264066</td>\n",
              "    </tr>\n",
              "    <tr>\n",
              "      <th>std</th>\n",
              "      <td>5.860415</td>\n",
              "      <td>5.748655</td>\n",
              "      <td>0.606013</td>\n",
              "      <td>581.948922</td>\n",
              "      <td>0.363961</td>\n",
              "      <td>0.364351</td>\n",
              "      <td>111.398299</td>\n",
              "      <td>38.524238</td>\n",
              "      <td>657.597003</td>\n",
              "      <td>2.800775</td>\n",
              "      <td>12.547968</td>\n",
              "      <td>0.703466</td>\n",
              "    </tr>\n",
              "    <tr>\n",
              "      <th>min</th>\n",
              "      <td>5.000000</td>\n",
              "      <td>1.000000</td>\n",
              "      <td>-2.995732</td>\n",
              "      <td>1.000000</td>\n",
              "      <td>0.000000</td>\n",
              "      <td>0.000000</td>\n",
              "      <td>1.000000</td>\n",
              "      <td>16.000000</td>\n",
              "      <td>0.000000</td>\n",
              "      <td>1.000000</td>\n",
              "      <td>0.000000</td>\n",
              "      <td>0.000000</td>\n",
              "    </tr>\n",
              "    <tr>\n",
              "      <th>25%</th>\n",
              "      <td>8.000000</td>\n",
              "      <td>5.000000</td>\n",
              "      <td>-1.087146</td>\n",
              "      <td>265.000000</td>\n",
              "      <td>1.000000</td>\n",
              "      <td>1.000000</td>\n",
              "      <td>53.750000</td>\n",
              "      <td>68.000000</td>\n",
              "      <td>758.500000</td>\n",
              "      <td>2.000000</td>\n",
              "      <td>0.000000</td>\n",
              "      <td>0.693147</td>\n",
              "    </tr>\n",
              "    <tr>\n",
              "      <th>50%</th>\n",
              "      <td>13.000000</td>\n",
              "      <td>10.000000</td>\n",
              "      <td>-0.526332</td>\n",
              "      <td>596.000000</td>\n",
              "      <td>1.000000</td>\n",
              "      <td>1.000000</td>\n",
              "      <td>122.000000</td>\n",
              "      <td>91.000000</td>\n",
              "      <td>1197.000000</td>\n",
              "      <td>4.000000</td>\n",
              "      <td>2.000000</td>\n",
              "      <td>1.386294</td>\n",
              "    </tr>\n",
              "    <tr>\n",
              "      <th>75%</th>\n",
              "      <td>18.000000</td>\n",
              "      <td>15.000000</td>\n",
              "      <td>-0.150066</td>\n",
              "      <td>1141.000000</td>\n",
              "      <td>1.000000</td>\n",
              "      <td>1.000000</td>\n",
              "      <td>216.750000</td>\n",
              "      <td>116.500000</td>\n",
              "      <td>1587.500000</td>\n",
              "      <td>6.000000</td>\n",
              "      <td>8.000000</td>\n",
              "      <td>1.791759</td>\n",
              "    </tr>\n",
              "    <tr>\n",
              "      <th>max</th>\n",
              "      <td>25.000000</td>\n",
              "      <td>20.000000</td>\n",
              "      <td>-0.056685</td>\n",
              "      <td>2336.000000</td>\n",
              "      <td>1.125000</td>\n",
              "      <td>1.166667</td>\n",
              "      <td>436.000000</td>\n",
              "      <td>279.000000</td>\n",
              "      <td>3655.000000</td>\n",
              "      <td>16.000000</td>\n",
              "      <td>154.000000</td>\n",
              "      <td>2.772589</td>\n",
              "    </tr>\n",
              "  </tbody>\n",
              "</table>\n",
              "</div>"
            ],
            "text/plain": [
              "          recency  topic_rank  ...          c5  log_authors_mean_sociality\n",
              "count  479.000000  479.000000  ...  479.000000                  473.000000\n",
              "mean    13.419624   10.125261  ...    6.713987                    1.264066\n",
              "std      5.860415    5.748655  ...   12.547968                    0.703466\n",
              "min      5.000000    1.000000  ...    0.000000                    0.000000\n",
              "25%      8.000000    5.000000  ...    0.000000                    0.693147\n",
              "50%     13.000000   10.000000  ...    2.000000                    1.386294\n",
              "75%     18.000000   15.000000  ...    8.000000                    1.791759\n",
              "max     25.000000   20.000000  ...  154.000000                    2.772589\n",
              "\n",
              "[8 rows x 12 columns]"
            ]
          },
          "metadata": {
            "tags": []
          },
          "execution_count": 5
        }
      ]
    },
    {
      "cell_type": "code",
      "metadata": {
        "id": "TYuyBZKtfMV8"
      },
      "source": [
        "# Filling the nan values with median or mode value of the feature.\r\n",
        "df['authors_mean_gindex'].fillna(1, inplace=True)\r\n",
        "df['authors_mean_hindex'].fillna(1, inplace=True)\r\n",
        "df['log_authors_mean_sociality'].fillna(df['log_authors_mean_sociality'].median(), inplace=True)\r\n",
        "df['authors_mean_rank'].fillna(df['authors_mean_rank'].median(), inplace=True)\r\n",
        "df['journal_rank'].fillna(df['journal_rank'].median(), inplace=True)"
      ],
      "execution_count": 6,
      "outputs": []
    },
    {
      "cell_type": "code",
      "metadata": {
        "id": "-uK2Sf-YhXPs"
      },
      "source": [
        "# separagtin the labels column\r\n",
        "y = df['c5']\r\n",
        "X = df.drop('c5', axis=1)"
      ],
      "execution_count": 7,
      "outputs": []
    },
    {
      "cell_type": "code",
      "metadata": {
        "id": "5C86Tpe56m4E"
      },
      "source": [
        "# Building gradiend boosting regression model\r\n",
        "# As we have very few data sample, boosting should be used to overcome underfitting conditions.\r\n",
        "\r\n",
        "grad_model=GradientBoostingRegressor(random_state=1)\r\n",
        "\r\n",
        "# Using crossvalidation to for better estimation\r\n",
        "cv = RepeatedStratifiedKFold(n_splits=10, n_repeats=1, random_state=0)\r\n",
        "\r\n",
        "# Training the model using for cv data.\r\n",
        "grad_scores= cross_validate(grad_model, X, y, cv=cv, scoring=('r2', 'neg_mean_squared_error'), return_train_score=True)"
      ],
      "execution_count": 8,
      "outputs": []
    },
    {
      "cell_type": "code",
      "metadata": {
        "colab": {
          "base_uri": "https://localhost:8080/"
        },
        "id": "JraMAZBy68cc",
        "outputId": "3ea0c825-b40c-4a56-b246-b2e96edaef9c"
      },
      "source": [
        "# Caluclating the test and train accuracy\r\n",
        "print('Test R2 value: {}' .format(grad_scores['test_r2'].mean()))\r\n",
        "print('Train R2 value: {}' .format(grad_scores['train_r2'].mean()))"
      ],
      "execution_count": 9,
      "outputs": [
        {
          "output_type": "stream",
          "text": [
            "Test R2 value: 0.7956819728169684\n",
            "Train R2 value: 0.9821895328261278\n"
          ],
          "name": "stdout"
        }
      ]
    }
  ]
}